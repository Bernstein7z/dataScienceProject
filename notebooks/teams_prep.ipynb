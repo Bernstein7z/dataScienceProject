{
 "nbformat": 4,
 "nbformat_minor": 0,
 "metadata": {
  "colab": {
   "name": "teams.ipynb",
   "private_outputs": true,
   "provenance": [],
   "collapsed_sections": []
  },
  "kernelspec": {
   "name": "python3",
   "language": "python",
   "display_name": "Python 3"
  }
 },
 "cells": [
  {
   "cell_type": "code",
   "metadata": {
    "id": "RTHFSKiXMGXK"
   },
   "source": [
    "import json\n",
    "import sqlite3\n",
    "from sqlite3 import Error\n",
    "from dateutil.parser import parse"
   ],
   "execution_count": 1,
   "outputs": []
  },
  {
   "cell_type": "code",
   "metadata": {
    "id": "r6fYLpE9Nc7N"
   },
   "source": [
    "def create_connection(db_file):\n",
    "    conn = None\n",
    "    \n",
    "    try:\n",
    "        conn = sqlite3.connect(db_file)\n",
    "    except Error as e:\n",
    "        print(e)\n",
    "    \n",
    "    return conn"
   ],
   "execution_count": 2,
   "outputs": []
  },
  {
   "cell_type": "code",
   "execution_count": 3,
   "outputs": [],
   "source": [
    "def define_db_table(conn):\n",
    "    persons_table = \"\"\"create table if not exists persons (\n",
    "                                    id integer primary key ,\n",
    "                                    name varchar(100) unique,\n",
    "                                    role text,\n",
    "                                    publications integer default 0,\n",
    "                                    words integer default 0,\n",
    "                                    first_seen date,\n",
    "                                    last_seen date\n",
    "                                );\"\"\"\n",
    "    publications_table = \"\"\"create table if not exists publications (\n",
    "                                    id integer primary key ,\n",
    "                                    pub_date date,\n",
    "                                    nyt_id text,\n",
    "                                    has_duplicated boolean default false,\n",
    "                                    duplicate_amount integer default 0,\n",
    "                                    material_id integer,\n",
    "                                    news_desk_id integer,\n",
    "                                    section_id integer,\n",
    "                                    sub_section_id integer,\n",
    "                                    foreign key (material_id) references type_of_material(id),\n",
    "                                    foreign key (news_desk_id) references news_desks(id),\n",
    "                                    foreign key (section_id) references sections(id),\n",
    "                                    foreign key (sub_section_id) references sub_sections(id)\n",
    "                                );\"\"\"\n",
    "    collaborations_table = \"\"\"create table if not exists collaborations (\n",
    "                                    id integer primary key,\n",
    "                                    rank integer not null,\n",
    "                                    publication_id integer,\n",
    "                                    person_id integer,\n",
    "                                    foreign key (publication_id) references publications(id),\n",
    "                                    foreign key (person_id) references persons(id)\n",
    "                                );\"\"\"\n",
    "    type_of_material_table =\"\"\"create table if not exists type_of_material (\n",
    "                                    id integer primary key,\n",
    "                                    name text not null unique\n",
    "                                );\"\"\"\n",
    "    news_desks_table =\"\"\"create table if not exists news_desks (\n",
    "                                    id integer primary key,\n",
    "                                    name text not null unique\n",
    "                                );\"\"\"\n",
    "    section_table =\"\"\"create table if not exists sections (\n",
    "                                    id integer primary key,\n",
    "                                    name text not null unique\n",
    "                                );\"\"\"\n",
    "    sub_section_table =\"\"\"create table if not exists sub_sections (\n",
    "                                    id integer primary key,\n",
    "                                    name text not null unique\n",
    "                                );\"\"\"\n",
    "\n",
    "    if conn is not None:\n",
    "        try:\n",
    "            print('create tables')\n",
    "            c = conn.cursor()\n",
    "            c.execute(type_of_material_table)\n",
    "            c.execute(news_desks_table)\n",
    "            c.execute(section_table)\n",
    "            c.execute(sub_section_table)\n",
    "            c.execute(persons_table)\n",
    "            c.execute(publications_table)\n",
    "            c.execute(collaborations_table)\n",
    "        except Error as error:\n",
    "            print(\"cannot create table\", error)\n",
    "    else:\n",
    "        print(\"Error! cannot create the database connection.\")"
   ],
   "metadata": {
    "collapsed": false,
    "pycharm": {
     "name": "#%%\n"
    }
   }
  },
  {
   "cell_type": "code",
   "execution_count": 4,
   "outputs": [],
   "source": [
    "def db_execute(conn, query, entry):\n",
    "    with conn:\n",
    "        try:\n",
    "            c = conn.cursor()\n",
    "            c.execute(query, entry)\n",
    "            conn.commit()\n",
    "            return c.lastrowid\n",
    "        except Error as e:\n",
    "            pass"
   ],
   "metadata": {
    "collapsed": false,
    "pycharm": {
     "name": "#%%\n"
    }
   }
  },
  {
   "cell_type": "code",
   "execution_count": 5,
   "outputs": [],
   "source": [
    "def find_one(conn, query, value):\n",
    "    c = conn.cursor()\n",
    "    c.execute(query, value)\n",
    "    return c.fetchone()"
   ],
   "metadata": {
    "collapsed": false,
    "pycharm": {
     "name": "#%%\n"
    }
   }
  },
  {
   "cell_type": "code",
   "execution_count": 6,
   "outputs": [],
   "source": [
    "def find_all(conn, query, value):\n",
    "    c = conn.cursor()\n",
    "    c.execute(query, value)\n",
    "    return c.fetchall()"
   ],
   "metadata": {
    "collapsed": false,
    "pycharm": {
     "name": "#%%\n"
    }
   }
  },
  {
   "cell_type": "code",
   "metadata": {
    "id": "q4qSf24AdceY"
   },
   "source": [
    "def get_fullname(_person):\n",
    "    return f\"{_person['firstname']} {_person['middlename']} {_person['lastname']}\" if _person['middlename'] is not None else f\"{_person['firstname']} {_person['lastname']}\""
   ],
   "execution_count": 7,
   "outputs": []
  },
  {
   "cell_type": "code",
   "metadata": {
    "id": "QgXe9pAeMMBG",
    "pycharm": {
     "name": "#%%\n"
    }
   },
   "source": [
    "def static(db):\n",
    "    with db:\n",
    "        for year in range(2016, 2021):\n",
    "            for month in range(1, 13):\n",
    "                print(year, month)\n",
    "                with open(f'../data/{year}_{month}.json') as json_file:\n",
    "                    data = json.load(json_file)\n",
    "\n",
    "                docs = data['response']['docs']\n",
    "\n",
    "                for doc in docs:\n",
    "                    # populate tables\n",
    "                    if 'type_of_material' in doc:\n",
    "                        db_execute(db, 'insert into type_of_material(name) values(?)', (doc['type_of_material'],))\n",
    "                    if 'news_desk' in doc:\n",
    "                        db_execute(db, 'insert into news_desks(name) values(?)', (doc['news_desk'],))\n",
    "                    if 'section_name' in doc:\n",
    "                        db_execute(db, 'insert into sections(name) values(?)', (doc['section_name'],))\n",
    "                    if 'subsection_name' in doc:\n",
    "                        db_execute(db, 'insert into sub_sections(name) values(?)', (doc['subsection_name'],))\n",
    "\n",
    "                    # populate persons\n",
    "                    try:\n",
    "                        persons = doc['byline']['person']\n",
    "                        if persons is None:\n",
    "                            continue\n",
    "\n",
    "                        publication_id = ''\n",
    "                        material_id = ''\n",
    "                        news_desk_id = ''\n",
    "                        section_id = ''\n",
    "                        sub_section_id = ''\n",
    "\n",
    "                        if len(persons) > 0:\n",
    "                            if 'type_of_material' in doc:\n",
    "                                material_id = find_one(db, 'select * from type_of_material where name = ?', (doc['type_of_material'],))[0]\n",
    "                            if 'news_desk' in doc:\n",
    "                                news_desk_id = find_one(db, 'select * from news_desks where name = ?', (doc['news_desk'],))[0]\n",
    "                            if 'section_name' in doc:\n",
    "                                section_id = find_one(db, 'select * from sections where name = ?', (doc['section_name'],))[0]\n",
    "                            if 'subsection_name' in doc:\n",
    "                                sub_section_id = find_one(db, 'select * from sub_sections where name = ?', (doc['subsection_name'],))[0]\n",
    "\n",
    "                            duplicates = find_all(db, 'select * from publications where nyt_id = ?', (doc['_id'],))\n",
    "                            flag = len(duplicates) > 0\n",
    "                            publication_id = db_execute(db, 'insert into publications(pub_date,nyt_id,has_duplicated,duplicate_amount,material_id,news_desk_id,section_id,sub_section_id) values(?,?,?,?,?,?,?,?)',\n",
    "                                                (doc['pub_date'], doc['_id'], flag, len(duplicates), material_id, news_desk_id, section_id, sub_section_id))\n",
    "\n",
    "                        for person in persons:\n",
    "                            person_id = ''\n",
    "                            name = get_fullname(person)\n",
    "                            role = person['role']\n",
    "                            words = doc['word_count']\n",
    "                            person_entry = find_one(db, 'select * from persons where name = ?', (name,))\n",
    "\n",
    "                            if person_entry is not None:\n",
    "                                person_id = person_entry[0]\n",
    "                                publications = person_entry[3] + 1\n",
    "                                words = person_entry[4] + words\n",
    "                                last_seen =  doc['pub_date'] if parse(person_entry[6]) < parse(doc['pub_date']) else person_entry[6]\n",
    "                                db_execute(db,'update persons set publications = ? , words = ? , last_seen = ? where id = ?',\n",
    "                                           (publications, words, last_seen, person_entry[0]))\n",
    "                            else:\n",
    "                                person_id = db_execute(db, 'insert into persons(name,role,publications,words,first_seen,last_seen) values(?,?,?,?,?,?)',\n",
    "                                       (name,role,1,words,doc['pub_date'],doc['pub_date']))\n",
    "\n",
    "                            db_execute(db, 'insert into collaborations(rank,publication_id,person_id) values(?,?,?)',\n",
    "                                    (person['rank'], publication_id, person_id))\n",
    "\n",
    "                    except Error as e:\n",
    "                        print(e)\n",
    "        print('end')"
   ],
   "execution_count": 8,
   "outputs": []
  },
  {
   "cell_type": "code",
   "execution_count": 9,
   "outputs": [],
   "source": [
    "def main():\n",
    "    db = create_connection(r\"../teams.db\")\n",
    "    define_db_table(db)\n",
    "    static(db)\n",
    "    db.close()"
   ],
   "metadata": {
    "collapsed": false,
    "pycharm": {
     "name": "#%%\n"
    }
   }
  },
  {
   "cell_type": "code",
   "execution_count": 10,
   "outputs": [
    {
     "name": "stdout",
     "output_type": "stream",
     "text": [
      "create tables\n",
      "2016 1\n",
      "2016 2\n",
      "2016 3\n",
      "2016 4\n",
      "2016 5\n",
      "2016 6\n",
      "2016 7\n",
      "2016 8\n",
      "2016 9\n",
      "2016 10\n",
      "2016 11\n",
      "2016 12\n",
      "2017 1\n",
      "2017 2\n",
      "2017 3\n",
      "2017 4\n",
      "2017 5\n",
      "2017 6\n",
      "2017 7\n",
      "2017 8\n",
      "2017 9\n",
      "2017 10\n",
      "2017 11\n",
      "2017 12\n",
      "2018 1\n",
      "2018 2\n",
      "2018 3\n",
      "2018 4\n",
      "2018 5\n",
      "2018 6\n",
      "2018 7\n",
      "2018 8\n",
      "2018 9\n",
      "2018 10\n",
      "2018 11\n",
      "2018 12\n",
      "2019 1\n",
      "2019 2\n",
      "2019 3\n",
      "2019 4\n",
      "2019 5\n",
      "2019 6\n",
      "2019 7\n",
      "2019 8\n",
      "2019 9\n",
      "2019 10\n",
      "2019 11\n",
      "2019 12\n",
      "2020 1\n",
      "2020 2\n",
      "2020 3\n",
      "2020 4\n",
      "2020 5\n",
      "2020 6\n",
      "2020 7\n",
      "2020 8\n",
      "2020 9\n",
      "2020 10\n",
      "2020 11\n",
      "2020 12\n"
     ]
    },
    {
     "ename": "FileNotFoundError",
     "evalue": "[Errno 2] No such file or directory: '../data/2020_12.json'",
     "output_type": "error",
     "traceback": [
      "\u001B[0;31m---------------------------------------------------------------------------\u001B[0m",
      "\u001B[0;31mFileNotFoundError\u001B[0m                         Traceback (most recent call last)",
      "\u001B[0;32m<ipython-input-10-263240bbee7e>\u001B[0m in \u001B[0;36m<module>\u001B[0;34m\u001B[0m\n\u001B[0;32m----> 1\u001B[0;31m \u001B[0mmain\u001B[0m\u001B[0;34m(\u001B[0m\u001B[0;34m)\u001B[0m\u001B[0;34m\u001B[0m\u001B[0;34m\u001B[0m\u001B[0m\n\u001B[0m",
      "\u001B[0;32m<ipython-input-9-1e1daad9e40b>\u001B[0m in \u001B[0;36mmain\u001B[0;34m()\u001B[0m\n\u001B[1;32m      2\u001B[0m     \u001B[0mdb\u001B[0m \u001B[0;34m=\u001B[0m \u001B[0mcreate_connection\u001B[0m\u001B[0;34m(\u001B[0m\u001B[0;34mr\"../teams.db\"\u001B[0m\u001B[0;34m)\u001B[0m\u001B[0;34m\u001B[0m\u001B[0;34m\u001B[0m\u001B[0m\n\u001B[1;32m      3\u001B[0m     \u001B[0mdefine_db_table\u001B[0m\u001B[0;34m(\u001B[0m\u001B[0mdb\u001B[0m\u001B[0;34m)\u001B[0m\u001B[0;34m\u001B[0m\u001B[0;34m\u001B[0m\u001B[0m\n\u001B[0;32m----> 4\u001B[0;31m     \u001B[0mstatic\u001B[0m\u001B[0;34m(\u001B[0m\u001B[0mdb\u001B[0m\u001B[0;34m)\u001B[0m\u001B[0;34m\u001B[0m\u001B[0;34m\u001B[0m\u001B[0m\n\u001B[0m\u001B[1;32m      5\u001B[0m     \u001B[0mdb\u001B[0m\u001B[0;34m.\u001B[0m\u001B[0mclose\u001B[0m\u001B[0;34m(\u001B[0m\u001B[0;34m)\u001B[0m\u001B[0;34m\u001B[0m\u001B[0;34m\u001B[0m\u001B[0m\n\u001B[1;32m      6\u001B[0m \u001B[0;34m\u001B[0m\u001B[0m\n",
      "\u001B[0;32m<ipython-input-8-072bf1b4e1f0>\u001B[0m in \u001B[0;36mstatic\u001B[0;34m(db)\u001B[0m\n\u001B[1;32m      4\u001B[0m             \u001B[0;32mfor\u001B[0m \u001B[0mmonth\u001B[0m \u001B[0;32min\u001B[0m \u001B[0mrange\u001B[0m\u001B[0;34m(\u001B[0m\u001B[0;36m1\u001B[0m\u001B[0;34m,\u001B[0m \u001B[0;36m13\u001B[0m\u001B[0;34m)\u001B[0m\u001B[0;34m:\u001B[0m\u001B[0;34m\u001B[0m\u001B[0;34m\u001B[0m\u001B[0m\n\u001B[1;32m      5\u001B[0m                 \u001B[0mprint\u001B[0m\u001B[0;34m(\u001B[0m\u001B[0myear\u001B[0m\u001B[0;34m,\u001B[0m \u001B[0mmonth\u001B[0m\u001B[0;34m)\u001B[0m\u001B[0;34m\u001B[0m\u001B[0;34m\u001B[0m\u001B[0m\n\u001B[0;32m----> 6\u001B[0;31m                 \u001B[0;32mwith\u001B[0m \u001B[0mopen\u001B[0m\u001B[0;34m(\u001B[0m\u001B[0;34mf'../data/{year}_{month}.json'\u001B[0m\u001B[0;34m)\u001B[0m \u001B[0;32mas\u001B[0m \u001B[0mjson_file\u001B[0m\u001B[0;34m:\u001B[0m\u001B[0;34m\u001B[0m\u001B[0;34m\u001B[0m\u001B[0m\n\u001B[0m\u001B[1;32m      7\u001B[0m                     \u001B[0mdata\u001B[0m \u001B[0;34m=\u001B[0m \u001B[0mjson\u001B[0m\u001B[0;34m.\u001B[0m\u001B[0mload\u001B[0m\u001B[0;34m(\u001B[0m\u001B[0mjson_file\u001B[0m\u001B[0;34m)\u001B[0m\u001B[0;34m\u001B[0m\u001B[0;34m\u001B[0m\u001B[0m\n\u001B[1;32m      8\u001B[0m \u001B[0;34m\u001B[0m\u001B[0m\n",
      "\u001B[0;31mFileNotFoundError\u001B[0m: [Errno 2] No such file or directory: '../data/2020_12.json'"
     ]
    }
   ],
   "source": [
    "main()"
   ],
   "metadata": {
    "collapsed": false,
    "pycharm": {
     "name": "#%%\n"
    }
   }
  },
  {
   "cell_type": "code",
   "execution_count": null,
   "outputs": [],
   "source": [],
   "metadata": {
    "collapsed": false,
    "pycharm": {
     "name": "#%%\n"
    }
   }
  }
 ]
}