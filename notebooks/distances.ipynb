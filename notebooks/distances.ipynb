{
 "nbformat": 4,
 "nbformat_minor": 0,
 "metadata": {
  "colab": {
   "name": "distances.ipynb",
   "provenance": []
  },
  "kernelspec": {
   "name": "pycharm-51a0e749",
   "language": "python",
   "display_name": "PyCharm (nytimes)"
  }
 },
 "cells": [
  {
   "cell_type": "code",
   "metadata": {
    "id": "TqtxajYuQB78",
    "colab": {
     "base_uri": "https://localhost:8080/",
     "height": 42
    },
    "outputId": "3446fe06-e69d-44ae-9dca-aa79d0d9d4fa"
   },
   "source": [
    "import json\n",
    "import csv\n",
    "import numpy as np\n",
    "from numpy import linalg\n",
    "import pandas as pd\n",
    "import matplotlib.pyplot as plt"
   ],
   "execution_count": null,
   "outputs": []
  },
  {
   "cell_type": "code",
   "execution_count": null,
   "outputs": [],
   "source": [
    "def get_authors(a_year: int) -> list:\n",
    "    result = []\n",
    "\n",
    "    with open(f'../data/authors_{a_year}.json') as authorsJsonFile:\n",
    "        a_authors = json.load(authorsJsonFile)\n",
    "\n",
    "    a_authors.pop(\"\")\n",
    "    for author, values in a_authors.items():\n",
    "        values.pop('co_authors')\n",
    "        result.append([author, values])\n",
    "\n",
    "    return result"
   ],
   "metadata": {
    "collapsed": false,
    "pycharm": {
     "name": "#%%\n"
    }
   }
  },
  {
   "cell_type": "code",
   "execution_count": null,
   "outputs": [],
   "source": [
    "def get_sections(s_authors: list) -> list:\n",
    "    result = set()\n",
    "    for author in s_authors:\n",
    "        for value in author[1].keys():\n",
    "            result.add(value)\n",
    "\n",
    "    return list(result)"
   ],
   "metadata": {
    "collapsed": false,
    "pycharm": {
     "name": "#%%\n"
    }
   }
  },
  {
   "cell_type": "code",
   "execution_count": null,
   "outputs": [],
   "source": [
    "def pearson_correlation(p_authors, p_year: int):\n",
    "    length = len(p_authors)\n",
    "    dim = len(sections)\n",
    "    author_array = np.empty(dim)\n",
    "    co_author_array = np.empty(dim)\n",
    "\n",
    "    with open(f'../data/pearson_edges_{p_year}.csv', mode='w') as cosine_file:\n",
    "        file_writer = csv.writer(cosine_file, delimiter=';', quotechar='\"', quoting=csv.QUOTE_MINIMAL)\n",
    "        file_writer.writerow(['source', 'target', 'weight'])\n",
    "\n",
    "        for i in range(0, length):\n",
    "            author_array.fill(0.0)\n",
    "\n",
    "            author, values = p_authors[i]\n",
    "            for key, value in values.items():\n",
    "                author_array[sections.index(key)] = value\n",
    "\n",
    "            for j in range(i+1, length):\n",
    "                co_author_array.fill(0.0)\n",
    "\n",
    "                co_author, co_values = p_authors[j]\n",
    "                for co_key, co_value in co_values.items():\n",
    "                    co_author_array[sections.index(co_key)] = co_value\n",
    "\n",
    "                condition = any(item in co_values.keys() for item in values.keys())\n",
    "                if condition:\n",
    "                    similarity = round(np.corrcoef(author_array, co_author_array)[0,1], 4)\n",
    "                    file_writer.writerow([author, co_author, similarity])"
   ],
   "metadata": {
    "collapsed": false,
    "pycharm": {
     "name": "#%%\n"
    }
   }
  },
  {
   "cell_type": "code",
   "metadata": {
    "id": "Oq_QK5lAS488"
   },
   "source": [
    "def minkowski_distance(minkowski_data: list, n: float) -> float:\n",
    "    distances = [abs(element[0] - element[1])**n for element in minkowski_data]\n",
    "\n",
    "    return (sum(distances) ** (1/n)) + 1"
   ],
   "execution_count": null,
   "outputs": []
  },
  {
   "cell_type": "code",
   "metadata": {
    "id": "U1ZAeFRpCKeN"
   },
   "source": [
    "def calc_minkowski_distance(m_authors: list, m_year: int, n: float):\n",
    "    mode = ''\n",
    "\n",
    "    if n == 1.0: mode = 'manhattan'\n",
    "    if n == 2.0: mode = 'euclidean'\n",
    "    if n < 1.0: mode = 'fractional'\n",
    "\n",
    "    with open(f'../data/{mode}_edges_{m_year}.csv', mode='w') as minkowski_file:\n",
    "        file_writer = csv.writer(minkowski_file, delimiter=';', quotechar='\"', quoting=csv.QUOTE_MINIMAL)\n",
    "\n",
    "        header = [\"source\", \"target\", \"weight\"]\n",
    "        file_writer.writerow(header)\n",
    "\n",
    "        for author in m_authors:\n",
    "            author_seen = False\n",
    "            # calc for all other authors\n",
    "            for colleague in m_authors:\n",
    "                if author[0] == colleague[0] and not author_seen:\n",
    "                    author_seen = True\n",
    "                    continue\n",
    "\n",
    "                if not author_seen:\n",
    "                    continue\n",
    "\n",
    "                # initial\n",
    "                m_data = np.zeros((len(sections), 2))\n",
    "                for co_key, co_value in colleague[1].items():\n",
    "                    m_data[sections.index(co_key)] = [0, co_value]\n",
    "\n",
    "                relevant = False\n",
    "                for key, value in author[1].items():\n",
    "                    if key in colleague[1]:\n",
    "                        relevant = True\n",
    "                        m_data[sections.index(key)] = [value, colleague[1][key]]\n",
    "                    else:\n",
    "                        m_data[sections.index(key)] = [value, 0]\n",
    "\n",
    "                if relevant:\n",
    "                    distance = minkowski_distance(list(m_data), n)\n",
    "                    file_writer.writerow([author[0], colleague[0], round(distance, 2)])"
   ],
   "execution_count": null,
   "outputs": []
  },
  {
   "cell_type": "code",
   "execution_count": null,
   "outputs": [],
   "source": [
    "def cos_sim(c_year: int):\n",
    "    length = len(authors)\n",
    "    dim = len(sections)\n",
    "    author_array = np.empty(dim)\n",
    "    co_author_array = np.empty(dim)\n",
    "\n",
    "    with open(f'../data/cosine_edges_{c_year}.csv', mode='w') as cosine_file:\n",
    "        file_writer = csv.writer(cosine_file, delimiter=';', quotechar='\"', quoting=csv.QUOTE_MINIMAL)\n",
    "        file_writer.writerow(['source', 'target', 'weight'])\n",
    "\n",
    "        for i in range(0, length):\n",
    "            author_array.fill(0.0)\n",
    "\n",
    "            author, values = authors[i]\n",
    "            for key, value in values.items():\n",
    "                author_array[sections.index(key)] = value\n",
    "            author_norm = linalg.norm(author_array)\n",
    "\n",
    "            for j in range(i+1, length):\n",
    "                co_author_array.fill(0.0)\n",
    "\n",
    "                co_author, co_values = authors[j]\n",
    "                for co_key, co_value in co_values.items():\n",
    "                    co_author_array[sections.index(co_key)] = co_value\n",
    "                co_author_norm = linalg.norm(co_author_array)\n",
    "\n",
    "                similarity = np.dot(author_array, co_author_array) / (author_norm * co_author_norm)\n",
    "                if similarity > 0.0:\n",
    "                    file_writer.writerow([author, co_author, round(similarity, 4)])"
   ],
   "metadata": {
    "collapsed": false,
    "pycharm": {
     "name": "#%%\n"
    }
   }
  },
  {
   "cell_type": "code",
   "execution_count": null,
   "outputs": [],
   "source": [
    "pcc = pd.read_csv('../data/pearson_edges_2016.csv', sep=';')\n",
    "euc = pd.read_csv('../data/euclidean_edges_2016.csv', sep=';')\n"
   ],
   "metadata": {
    "collapsed": false,
    "pycharm": {
     "name": "#%%\n"
    }
   }
  },
  {
   "cell_type": "code",
   "execution_count": null,
   "outputs": [],
   "source": [
    "pcc['weight'] = round(pcc['weight'], 2)\n",
    "plt.figure()\n",
    "pcc['weight'].abs().plot.hist(bins=100, cumulative=True)\n"
   ],
   "metadata": {
    "collapsed": false,
    "pycharm": {
     "name": "#%%\n"
    }
   }
  },
  {
   "cell_type": "code",
   "execution_count": null,
   "outputs": [],
   "source": [
    "euc['weight'].plot.hist(bins=100, cumulative=True)"
   ],
   "metadata": {
    "collapsed": false,
    "pycharm": {
     "name": "#%%\n"
    }
   }
  },
  {
   "cell_type": "code",
   "execution_count": null,
   "outputs": [],
   "source": [
    "year = 2016\n",
    "authors = get_authors(year)\n",
    "sections = get_sections(authors)\n",
    "# calc_minkowski_distance(authors , year, 2)\n",
    "# calc_minkowski_distance(authors, year, 1)\n",
    "# calc_minkowski_distance(authors, year, .5)\n",
    "# cos_sim(year)\n",
    "pearson_correlation(authors, year)"
   ],
   "metadata": {
    "collapsed": false,
    "pycharm": {
     "name": "#%%\n"
    }
   }
  }
 ]
}