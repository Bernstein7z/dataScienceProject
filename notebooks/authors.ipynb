{
 "cells": [
  {
   "cell_type": "code",
   "execution_count": 1,
   "metadata": {
    "collapsed": true,
    "pycharm": {
     "name": "#%%\n"
    }
   },
   "outputs": [],
   "source": [
    "import json\n",
    "import csv\n",
    "import numpy as np"
   ]
  },
  {
   "cell_type": "code",
   "execution_count": 2,
   "outputs": [],
   "source": [
    "authors = {}"
   ],
   "metadata": {
    "collapsed": false,
    "pycharm": {
     "name": "#%%\n"
    }
   }
  },
  {
   "cell_type": "code",
   "execution_count": 3,
   "outputs": [],
   "source": [
    "def get_name(_person: dict) -> str:\n",
    "    first = _person['firstname'] if _person['firstname'] else ''\n",
    "    middle = _person['middlename'] if _person['middlename'] else ''\n",
    "    last = _person['lastname'] if _person['lastname'] else ''\n",
    "    return (first + middle + last).lower()"
   ],
   "metadata": {
    "collapsed": false,
    "pycharm": {
     "name": "#%%\n"
    }
   }
  },
  {
   "cell_type": "code",
   "execution_count": 4,
   "outputs": [],
   "source": [
    "def get_co_authors(current_rank: int, _persons: list, _co_authors = None) -> dict:\n",
    "    co_authors = _co_authors if _co_authors else {}\n",
    "\n",
    "    if len(_persons) > 1:\n",
    "        for _co_author in _persons:\n",
    "            if _co_author['rank'] != current_rank:\n",
    "                co_author_name = get_name(_co_author)\n",
    "                co_authors[co_author_name] = 1 if co_author_name not in co_authors else co_authors[co_author_name] + 1\n",
    "\n",
    "    return co_authors"
   ],
   "metadata": {
    "collapsed": false,
    "pycharm": {
     "name": "#%%\n"
    }
   }
  },
  {
   "cell_type": "code",
   "execution_count": 5,
   "outputs": [],
   "source": [
    "def get_authors(start, end):\n",
    "    for year in range(start, end+1):\n",
    "        print(f\"{year}\", sep=\",\", end=\" \")\n",
    "\n",
    "        for month in range(1, 13):\n",
    "            with open(f\"../data/{year}_{month}.json\", \"r\") as file:\n",
    "                data = json.load(file)\n",
    "\n",
    "            for doc in data['response']['docs']:\n",
    "                if 'document_type' not in doc: continue\n",
    "                if doc['document_type'] != 'article': continue\n",
    "\n",
    "                persons = doc['byline']['person']\n",
    "                if 'person' in doc and len(persons) == 0: continue\n",
    "                if persons is None: continue\n",
    "\n",
    "                news_desk = doc['news_desk'] if 'news_desk' in doc else None\n",
    "                #section_name = doc['section_name'] if 'section_name' in doc else None\n",
    "                #subsection_name = doc['subsection_name'] if 'subsection_name' in doc else None\n",
    "\n",
    "                for person in persons:\n",
    "                    # get the fullname\n",
    "                    name = get_name(person)\n",
    "\n",
    "                    # check if the author is already seen if not create a new author sub dict\n",
    "                    if name not in authors:\n",
    "                        author = {}\n",
    "\n",
    "                        if news_desk: author[news_desk] = 1\n",
    "                        #if section_name: author[section_name] = 1\n",
    "                        #if subsection_name: author[subsection_name] = 1\n",
    "                        author['co_authors'] = get_co_authors(person['rank'], persons)\n",
    "\n",
    "                        authors[name] = author\n",
    "                    else:\n",
    "                        author = authors[name]\n",
    "\n",
    "                        if news_desk and news_desk in author: author[news_desk] += 1\n",
    "                        if news_desk and news_desk not in author: author[news_desk] = 1\n",
    "\n",
    "                        # if section_name and section_name in author: author[section_name] += 1\n",
    "                        # if section_name and section_name not in author: author[section_name] = 1\n",
    "                        #\n",
    "                        # if subsection_name and subsection_name in author: author[subsection_name] += 1\n",
    "                        # if subsection_name and subsection_name not in author: author[subsection_name] = 1\n",
    "\n",
    "                        author['co_authors'] = get_co_authors(person['rank'], persons, author['co_authors'])"
   ],
   "metadata": {
    "collapsed": false,
    "pycharm": {
     "name": "#%%\n"
    }
   }
  },
  {
   "cell_type": "code",
   "execution_count": 6,
   "outputs": [],
   "source": [
    "def authors_to_json(j_year: int = None ):\n",
    "    if j_year is None:\n",
    "        with open('../data/authors.json', 'w') as output:\n",
    "            json.dump(authors, output)\n",
    "    else:\n",
    "        with open(f'../data/authors_{j_year}.json', 'w') as output:\n",
    "            json.dump(authors, output)\n"
   ],
   "metadata": {
    "collapsed": false,
    "pycharm": {
     "name": "#%%\n"
    }
   }
  },
  {
   "cell_type": "code",
   "execution_count": 7,
   "outputs": [
    {
     "name": "stdout",
     "output_type": "stream",
     "text": [
      "2016 2017 2018 2019 2020 "
     ]
    }
   ],
   "source": [
    "for i in range(2016, 2021):\n",
    "    authors = {}\n",
    "    get_authors(i, i)\n",
    "    authors_to_json(i)\n",
    "\n",
    "# with open('../data/authors_2016.csv', mode='w') as file:\n",
    "#     file_writer = csv.writer(file, delimiter=';', quotechar='\"', quoting=csv.QUOTE_MINIMAL)\n",
    "#\n",
    "#     for author, values in authors.items():\n",
    "#         author_list = []\n",
    "#\n",
    "#         if len(values['co_authors']) > 0:\n",
    "#             for co_author in values['co_authors']:\n",
    "#                 author_list.append(co_author)\n",
    "#\n",
    "#         file_writer.writerow(author_list)\n",
    "#"
   ],
   "metadata": {
    "collapsed": false,
    "pycharm": {
     "name": "#%%\n"
    }
   }
  },
  {
   "cell_type": "code",
   "execution_count": 8,
   "outputs": [
    {
     "name": "stdout",
     "output_type": "stream",
     "text": [
      "2016 2017 2018 2019 2020 "
     ]
    }
   ],
   "source": [
    "authors = {}\n",
    "get_authors(2016, 2020)\n",
    "authors_to_json()\n",
    "\n",
    "\n",
    "# with open('../data/authors_matrix_2016.csv', mode='w') as file:\n",
    "#     file_writer = csv.writer(file, delimiter=';', quotechar='\"', quoting=csv.QUOTE_MINIMAL)\n",
    "#\n",
    "#     header = [\";\"] + list(authors.keys())\n",
    "#     file_writer.writerow(header)\n",
    "#\n",
    "#     for author, values in authors.items():\n",
    "#         row = [author] + list(np.zeros(len(header) - 1, dtype=int))\n",
    "#         row[header.index(author)] = 0\n",
    "#\n",
    "#         if len(values['co_authors']) > 0:\n",
    "#             for co_author, weight in values['co_authors'].items():\n",
    "#                 row[header.index(co_author)] = weight\n",
    "#\n",
    "#         file_writer.writerow(row)"
   ],
   "metadata": {
    "collapsed": false,
    "pycharm": {
     "name": "#%%\n"
    }
   }
  }
 ],
 "metadata": {
  "kernelspec": {
   "name": "pycharm-51a0e749",
   "language": "python",
   "display_name": "PyCharm (nytimes)"
  },
  "language_info": {
   "codemirror_mode": {
    "name": "ipython",
    "version": 2
   },
   "file_extension": ".py",
   "mimetype": "text/x-python",
   "name": "python",
   "nbconvert_exporter": "python",
   "pygments_lexer": "ipython2",
   "version": "3.9.1-final"
  }
 },
 "nbformat": 4,
 "nbformat_minor": 0
}