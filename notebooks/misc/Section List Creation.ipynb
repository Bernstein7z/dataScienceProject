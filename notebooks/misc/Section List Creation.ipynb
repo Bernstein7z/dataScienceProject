{
 "cells": [
  {
   "cell_type": "code",
   "execution_count": 46,
   "metadata": {},
   "outputs": [
    {
     "name": "stdout",
     "output_type": "stream",
     "text": [
      "Started\n",
      "Done\n"
     ]
    }
   ],
   "source": [
    "print(\"Started\")\n",
    "import json\n",
    "import matplotlib.pyplot as plt# Import full data\n",
    "sectionList = dict()\n",
    "sectionList[\"NoSection\"] = dict()\n",
    "sectionList[\"NoSection\"][\"WordCountSum\"] = doc['word_count']\n",
    "sectionList[\"NoSection\"][\"ArticleCount\"] = 0\n",
    "sectionList[\"NoSection\"][\"KeyWordCounts\"] = dict()\n",
    "for year in range(2016, 2021):\n",
    "    for month in range(1, 13):\n",
    "        if year != 2020 and month != 12:\n",
    "            with open(r'nytimes_metadata-20201113T133822Z-001\\nytimes_metadata\\{0}_{1}.json'.format(year, month), encoding=\"utf8\" ) as json_file:\n",
    "                data = json.load(json_file)\n",
    "            for doc in data['response']['docs']:\n",
    "                if ('section_name' in doc):\n",
    "                    if (doc['section_name'] in sectionList):\n",
    "                        sectionList[doc['section_name']][\"WordCountSum\"] = sectionList[doc['section_name']][\"WordCountSum\"] + doc[\"word_count\"]\n",
    "                        sectionList[doc['section_name']][\"ArticleCount\"] = sectionList[doc['section_name']][\"ArticleCount\"] +1\n",
    "                        for keyword in doc['keywords']:\n",
    "                            if (keyword['value'] in list(sectionList[doc['section_name']][\"KeyWordCounts\"].keys())):\n",
    "                                sectionList[doc['section_name']][\"KeyWordCounts\"][keyword['value']] = sectionList[doc['section_name']][\"KeyWordCounts\"][keyword['value']] +1\n",
    "                            else:\n",
    "                                sectionList[doc['section_name']][\"KeyWordCounts\"][keyword['value']] = 1\n",
    "                    else: #initialize \n",
    "                        sectionList[doc['section_name']] = dict()\n",
    "                        sectionList[doc['section_name']][\"WordCountSum\"] = doc['word_count']\n",
    "                        sectionList[doc['section_name']][\"ArticleCount\"] = 1\n",
    "                        sectionList[doc['section_name']][\"KeyWordCounts\"] = dict()\n",
    "                        for keyword in doc['keywords']:\n",
    "                            sectionList[doc['section_name']][\"KeyWordCounts\"][keyword['value']] = 1\n",
    "                else:\n",
    "                    sectionList[\"NoSection\"][\"WordCountSum\"] = sectionList[\"NoSection\"][\"WordCountSum\"] + doc[\"word_count\"]\n",
    "                    sectionList[\"NoSection\"][\"ArticleCount\"] = sectionList[\"NoSection\"][\"ArticleCount\"] + 1 \n",
    "                    sectionList[\"NoSection\"][\"KeyWordCounts\"] = dict()\n",
    "                    for keyword in doc['keywords']:\n",
    "                        if (keyword['value'] in list(sectionList[\"NoSection\"][\"KeyWordCounts\"].keys())):\n",
    "                            sectionList[\"NoSection\"][\"KeyWordCounts\"][keyword['value']] = sectionList[\"NoSection\"][\"KeyWordCounts\"][keyword['value']] +1 \n",
    "                        else:\n",
    "                            sectionList[\"NoSection\"][\"KeyWordCounts\"][keyword['value']] = 1\n",
    "\n",
    "with open('sectionList.json', 'w') as fp:\n",
    "    json.dump(sectionList, fp,  indent=4)\n",
    "    \n",
    "print(\"Done\")"
   ]
  },
  {
   "cell_type": "code",
   "execution_count": 47,
   "metadata": {},
   "outputs": [
    {
     "data": {
      "text/plain": [
       "dict_keys(['NoSection', 'Sports', 'Opinion', 'Technology', 'Arts', 'U.S.', 'Corrections', 'The Upshot', 'Fashion & Style', 'World', 'New York', 'Today’s Paper', 'Food', 'Business Day', 'Magazine', 'Crosswords & Games', 'Job Market', 'Real Estate', 'Blogs', 'Your Money', 'Style', 'T Magazine', 'Theater', 'Books', 'Health', 'Times Insider', 'Movies', 'NYT Now', 'Multimedia/Photos', 'Travel', 'Education', 'Science', 'Universal', 'Times Topics', 'Automobiles', 'Public Editor', 'Sunday Review', 'Obituaries', 'membercenter', 'The Learning Network', 'Archives', 'Well', 'Podcasts', 'Briefing', 'Admin', 'Watching', 'Giving', 'Climate', 'International Home', 'Homepage', 'Smarter Living', 'T Brand', 'Reader Center', 'Slideshows', 'Guides', 'Lens', 'Dance', 'Politics', 'Soccer', 'Baseball', 'Europe', 'Economy', 'Book Review', 'Pro Basketball', 'The Daily', 'DealBook', 'Americas', 'Africa', 'Weddings', 'Television', 'Letters', 'Learning', 'Australia', 'Editorials', 'Columnists', 'Personal Tech', 'Music', 'Art & Design', 'Media', 'Lesson Plans', 'Wine, Beer & Cocktails', 'Contributors', 'Middle East', 'Asia Pacific', 'Self-Care', 'América', 'Fashion & Beauty', 'Rugby', 'Commercial Real Estate', 'Opinion | The World', 'Auto Racing', 'Eat', 'Golf', 'Opinion | Environment', 'Opinion | Politics', 'Art', 'Horse Racing', 'Tennis', 'Canada', 'College Football', 'Move', 'Energy & Environment ', 'Family', 'Live', 'Mind', 'Men’s Style', 'Retirement', 'Pro Football', 'Elections', \"Women's Runway\", 'Design & Interiors', 'New York Today', 'Olympics', 'Hockey', 'Entertainment', 'Health Guide', 'Education Life', 'Wirecutter', 'Opinion | Culture', '中文', 'Opinion | Gender & Society', 'Opinion | Health', 'College Basketball', 'Space & Cosmos', 'Neediest Cases', 'Video', 'Parenting', 'The Weekly', 'en Español'])"
      ]
     },
     "execution_count": 47,
     "metadata": {},
     "output_type": "execute_result"
    }
   ],
   "source": [
    "sectionList.keys()"
   ]
  },
  {
   "cell_type": "code",
   "execution_count": null,
   "metadata": {},
   "outputs": [],
   "source": []
  }
 ],
 "metadata": {
  "kernelspec": {
   "display_name": "Python 3",
   "language": "python",
   "name": "python3"
  },
  "language_info": {
   "codemirror_mode": {
    "name": "ipython",
    "version": 3
   },
   "file_extension": ".py",
   "mimetype": "text/x-python",
   "name": "python",
   "nbconvert_exporter": "python",
   "pygments_lexer": "ipython3",
   "version": "3.8.6"
  }
 },
 "nbformat": 4,
 "nbformat_minor": 2
}